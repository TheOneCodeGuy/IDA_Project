{
 "cells": [
  {
   "cell_type": "code",
   "execution_count": 1,
   "metadata": {},
   "outputs": [
    {
     "name": "stderr",
     "output_type": "stream",
     "text": [
      "C:\\Users\\Renganathan\\Anaconda3\\lib\\site-packages\\h5py\\__init__.py:36: FutureWarning: Conversion of the second argument of issubdtype from `float` to `np.floating` is deprecated. In future, it will be treated as `np.float64 == np.dtype(float).type`.\n",
      "  from ._conv import register_converters as _register_converters\n"
     ]
    }
   ],
   "source": [
    "import pandas as pd\n",
    "import numpy as np\n",
    "import pdb\n",
    "import time\n",
    "import matplotlib.pyplot as plt\n",
    "from sklearn.model_selection import train_test_split, GridSearchCV\n",
    "#from sklearn.metrics import accuracy_score, f1_score, precision_score, recall_score, balanced_accuracy_score\n",
    "from sklearn.neighbors import KNeighborsRegressor\n",
    "import tensorflow as tf\n",
    "from sklearn.ensemble import AdaBoostClassifier\n",
    "from sklearn.tree import DecisionTreeClassifier\n",
    "#from xgboost import XGBClassifier\n",
    "import lightgbm as gbm\n",
    "from sklearn.decomposition import PCA\n",
    "import os\n",
    "import pickle\n",
    "%matplotlib nbagg\n",
    "from sklearn.cluster import KMeans"
   ]
  },
  {
   "cell_type": "code",
   "execution_count": 2,
   "metadata": {},
   "outputs": [],
   "source": [
    "X_test = pd.read_csv('X_test_PCA.csv', index_col=0)\n",
    "cluster_model = pickle.load(open('New Models/clustering.sav', 'rb'))\n",
    "cluster_y = cluster_model.predict(X_test)\n",
    "\n",
    "X_test1 = X_test.iloc[np.where(cluster_y == 0)[0]]\n",
    "X_test2 = X_test.iloc[np.where(cluster_y == 1)[0]]"
   ]
  },
  {
   "cell_type": "code",
   "execution_count": 3,
   "metadata": {},
   "outputs": [],
   "source": [
    "def predict(test_data, models, thresh, weights=None):\n",
    "    \n",
    "    if weights == None:\n",
    "        weights = np.ones(len(models))\n",
    "    \n",
    "    N = len(models)\n",
    "    ypred_final = np.zeros(test_data.shape[0])\n",
    "    \n",
    "    for i in range(N):\n",
    "        if thresh[i]==None:\n",
    "            ypred_final += weights[i]*models[i].predict(test_data)\n",
    "        \n",
    "        else:\n",
    "            y_test_prob = models[i].predict(test_data)    \n",
    "            y_pred_test = np.zeros(len(y_test_prob))\n",
    "            y_pred_test[np.argwhere(y_test_prob>thresh[i])] = 1 \n",
    "            \n",
    "            ypred_final += weights[i]*y_pred_test\n",
    "            \n",
    "       \n",
    "    ypred_final = ypred_final/sum(weights)\n",
    "    \n",
    "    y_hat_test = np.zeros(test_data.shape[0])\n",
    "    y_hat_test[np.argwhere(ypred_final>0.5)] = 1\n",
    "    \n",
    "    y = pd.DataFrame(y_hat_test, index=test_data.index)\n",
    "    \n",
    "    return(y)"
   ]
  },
  {
   "cell_type": "code",
   "execution_count": 14,
   "metadata": {},
   "outputs": [],
   "source": [
    "models1 = pickle.load(open('Dummy/models11.sav', 'rb'))\n",
    "models2 = pickle.load(open('Dummy/models22.sav', 'rb'))\n",
    "\n",
    "thresh1 = pickle.load(open('Dummy/threshold11.sav', 'rb'))\n",
    "thresh2 = pickle.load(open('Dummy/threshold22.sav', 'rb'))"
   ]
  },
  {
   "cell_type": "code",
   "execution_count": 15,
   "metadata": {},
   "outputs": [],
   "source": [
    "y_hat_test1 = predict(X_test1, models1, thresh1)\n",
    "y_hat_test2 = predict(X_test2, models2, thresh2)"
   ]
  },
  {
   "cell_type": "code",
   "execution_count": 16,
   "metadata": {},
   "outputs": [],
   "source": [
    "y = [y_hat_test1, y_hat_test2]\n",
    "y_hat_test = pd.concat(y)\n",
    "y_hat_test = y_hat_test.reindex(X_test.index)"
   ]
  },
  {
   "cell_type": "code",
   "execution_count": 17,
   "metadata": {},
   "outputs": [
    {
     "data": {
      "text/html": [
       "<div>\n",
       "<style scoped>\n",
       "    .dataframe tbody tr th:only-of-type {\n",
       "        vertical-align: middle;\n",
       "    }\n",
       "\n",
       "    .dataframe tbody tr th {\n",
       "        vertical-align: top;\n",
       "    }\n",
       "\n",
       "    .dataframe thead th {\n",
       "        text-align: right;\n",
       "    }\n",
       "</style>\n",
       "<table border=\"1\" class=\"dataframe\">\n",
       "  <thead>\n",
       "    <tr style=\"text-align: right;\">\n",
       "      <th></th>\n",
       "      <th>0</th>\n",
       "    </tr>\n",
       "    <tr>\n",
       "      <th>application_key</th>\n",
       "      <th></th>\n",
       "    </tr>\n",
       "  </thead>\n",
       "  <tbody>\n",
       "    <tr>\n",
       "      <th>578069</th>\n",
       "      <td>1.0</td>\n",
       "    </tr>\n",
       "    <tr>\n",
       "      <th>578070</th>\n",
       "      <td>0.0</td>\n",
       "    </tr>\n",
       "    <tr>\n",
       "      <th>578071</th>\n",
       "      <td>0.0</td>\n",
       "    </tr>\n",
       "    <tr>\n",
       "      <th>578072</th>\n",
       "      <td>0.0</td>\n",
       "    </tr>\n",
       "    <tr>\n",
       "      <th>578073</th>\n",
       "      <td>0.0</td>\n",
       "    </tr>\n",
       "  </tbody>\n",
       "</table>\n",
       "</div>"
      ],
      "text/plain": [
       "                   0\n",
       "application_key     \n",
       "578069           1.0\n",
       "578070           0.0\n",
       "578071           0.0\n",
       "578072           0.0\n",
       "578073           0.0"
      ]
     },
     "execution_count": 17,
     "metadata": {},
     "output_type": "execute_result"
    }
   ],
   "source": [
    "y_hat_test.head()"
   ]
  },
  {
   "cell_type": "code",
   "execution_count": 18,
   "metadata": {},
   "outputs": [
    {
     "data": {
      "text/plain": [
       "Int64Index([578069, 578070, 578071, 578072, 578073, 578074, 578075, 578076,\n",
       "            578077, 578078,\n",
       "            ...\n",
       "            310022, 310023, 310024, 310025, 310026, 310027, 310028, 310029,\n",
       "            310030, 310031],\n",
       "           dtype='int64', name='application_key', length=47000)"
      ]
     },
     "execution_count": 18,
     "metadata": {},
     "output_type": "execute_result"
    }
   ],
   "source": [
    "X_test.index"
   ]
  },
  {
   "cell_type": "code",
   "execution_count": 19,
   "metadata": {},
   "outputs": [],
   "source": [
    "y_hat_test.to_csv('Group7_6.csv', header=False)"
   ]
  }
 ],
 "metadata": {
  "kernelspec": {
   "display_name": "Python 3",
   "language": "python",
   "name": "python3"
  },
  "language_info": {
   "codemirror_mode": {
    "name": "ipython",
    "version": 3
   },
   "file_extension": ".py",
   "mimetype": "text/x-python",
   "name": "python",
   "nbconvert_exporter": "python",
   "pygments_lexer": "ipython3",
   "version": "3.6.5"
  }
 },
 "nbformat": 4,
 "nbformat_minor": 2
}
