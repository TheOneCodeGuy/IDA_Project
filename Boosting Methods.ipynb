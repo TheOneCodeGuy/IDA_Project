{
 "cells": [
  {
   "cell_type": "code",
   "execution_count": 27,
   "metadata": {},
   "outputs": [],
   "source": [
    "import pandas as pd\n",
    "import numpy as np\n",
    "import pdb\n",
    "import time\n",
    "from sklearn.linear_model import LogisticRegression\n",
    "from sklearn.svm import SVC\n",
    "import matplotlib.pyplot as plt\n",
    "from sklearn.model_selection import train_test_split, GridSearchCV\n",
    "from scipy.misc import imread\n",
    "from sklearn.metrics import accuracy_score, roc_auc_score, confusion_matrix\n",
    "import tensorflow as tf\n",
    "from sklearn.ensemble import AdaBoostClassifier\n",
    "from sklearn.tree import DecisionTreeClassifier\n",
    "from xgboost import XGBClassifier\n",
    "\n",
    "\n",
    "%matplotlib nbagg"
   ]
  },
  {
   "cell_type": "code",
   "execution_count": 25,
   "metadata": {},
   "outputs": [
    {
     "name": "stderr",
     "output_type": "stream",
     "text": [
      "C:\\Users\\Renganathan\\Anaconda3\\lib\\site-packages\\IPython\\core\\interactiveshell.py:2785: DtypeWarning: Columns (19) have mixed types. Specify dtype option on import or set low_memory=False.\n",
      "  interactivity=interactivity, compiler=compiler, result=result)\n"
     ]
    }
   ],
   "source": [
    "X = pd.read_csv('Data/Training_scaled_imputed.csv', index_col=0)\n",
    "y = pd.read_csv('Data/TrainingData.csv', index_col=0)['default_ind']\n",
    "\n",
    "X = X.drop(['mvar47', 'mvar48'], axis=1)\n",
    "\n",
    "X_train, X_test, Y_train, Y_test = train_test_split(X, y, test_size=0.3, random_state=15)"
   ]
  },
  {
   "cell_type": "code",
   "execution_count": null,
   "metadata": {},
   "outputs": [],
   "source": [
    "learning_rates = [0.001, 0.01, 0.1, 1, 10]\n",
    "n_estimators = [25, 50, 75, 100, 150, 250]\n",
    "base_estimators = [DecisionTreeClassifier(max_depth=d) for d in [2, 3, 4, 5, 7, 10, 20]]\n",
    "\n",
    "adaboost_parameters = {\n",
    "    'n_estimators': n_estimators,\n",
    "    'base_estimator': base_estimators,\n",
    "    'learning_rate': learning_rates\n",
    "}\n",
    "\n",
    "adaboost_model = AdaBoostClassifier(random_state = 15)\n",
    "cross_valid_adaboost = GridSearchCV(adaboost_model, adaboost_parameters, cv=5, scoring='f1')\n",
    "cross_valid_adaboost.fit(X_train, Y_train)"
   ]
  },
  {
   "cell_type": "code",
   "execution_count": null,
   "metadata": {},
   "outputs": [],
   "source": [
    "adaboost_models = pd.DataFrame(cross_valid_adaboost.cv_results_)\n",
    "best_adaboost_model = adaboost_models.sort_values(by='mean_test_score', ascending=False).iloc[:5]\n",
    "\n",
    "best_adaboost_models.loc[:, ['params', 'mean_test_score']]"
   ]
  },
  {
   "cell_type": "code",
   "execution_count": null,
   "metadata": {},
   "outputs": [],
   "source": [
    "learning_rates = [0.001, 0.01, 0.1, 1, 10]\n",
    "n_estimators = [75, 100, 150, 250, 300]\n",
    "base_estimators = [DecisionTreeClassifier(max_depth=d) for d in [2, 3, 4, 5, 7, 10, 20]]\n",
    "lambdas = [0.1, 1, 5, 10]\n",
    "\n",
    "adaboost_parameters = {\n",
    "    'n_estimators': n_estimators,\n",
    "    'base_estimator': base_estimators,\n",
    "    'learning_rate': learning_rates\n",
    "    'reg_lambda': lambdas\n",
    "}\n",
    "\n",
    "XGB_model = XGBClassifier(random_state=15, reg_alpha=0)\n",
    "\n",
    "cross_valid_XGB = GridSearchCV(XGB_model, XGB_parameters, cv=5, scoring='f1')\n",
    "cross_valid_XGB.fit(X_train, Y_train)"
   ]
  },
  {
   "cell_type": "code",
   "execution_count": null,
   "metadata": {},
   "outputs": [],
   "source": [
    "XGB_models = pd.DataFrame(cross_valid_XGB.cv_results_)\n",
    "best_XGB_model = XGB_models.sort_values(by='mean_test_score', ascending=False).iloc[:5]\n",
    "\n",
    "best_XGB_models.loc[:, ['params', 'mean_test_score']]"
   ]
  }
 ],
 "metadata": {
  "kernelspec": {
   "display_name": "Python 3",
   "language": "python",
   "name": "python3"
  },
  "language_info": {
   "codemirror_mode": {
    "name": "ipython",
    "version": 3
   },
   "file_extension": ".py",
   "mimetype": "text/x-python",
   "name": "python",
   "nbconvert_exporter": "python",
   "pygments_lexer": "ipython3",
   "version": "3.6.5"
  }
 },
 "nbformat": 4,
 "nbformat_minor": 2
}
