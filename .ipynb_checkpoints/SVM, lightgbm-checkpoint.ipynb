{
 "cells": [
  {
   "cell_type": "code",
   "execution_count": 1,
   "metadata": {},
   "outputs": [],
   "source": [
    "import os\n",
    "import math\n",
    "import numpy as np\n",
    "import datetime as dt\n",
    "import time\n",
    "import pandas as pd\n",
    "import matplotlib.pyplot as plt"
   ]
  },
  {
   "cell_type": "code",
   "execution_count": 2,
   "metadata": {},
   "outputs": [
    {
     "data": {
      "text/html": [
       "<div>\n",
       "<style scoped>\n",
       "    .dataframe tbody tr th:only-of-type {\n",
       "        vertical-align: middle;\n",
       "    }\n",
       "\n",
       "    .dataframe tbody tr th {\n",
       "        vertical-align: top;\n",
       "    }\n",
       "\n",
       "    .dataframe thead th {\n",
       "        text-align: right;\n",
       "    }\n",
       "</style>\n",
       "<table border=\"1\" class=\"dataframe\">\n",
       "  <thead>\n",
       "    <tr style=\"text-align: right;\">\n",
       "      <th></th>\n",
       "      <th>0</th>\n",
       "      <th>1</th>\n",
       "      <th>2</th>\n",
       "      <th>3</th>\n",
       "      <th>4</th>\n",
       "      <th>5</th>\n",
       "      <th>6</th>\n",
       "      <th>7</th>\n",
       "      <th>8</th>\n",
       "      <th>9</th>\n",
       "      <th>...</th>\n",
       "      <th>26</th>\n",
       "      <th>27</th>\n",
       "      <th>28</th>\n",
       "      <th>29</th>\n",
       "      <th>30</th>\n",
       "      <th>31</th>\n",
       "      <th>32</th>\n",
       "      <th>33</th>\n",
       "      <th>34</th>\n",
       "      <th>default_ind</th>\n",
       "    </tr>\n",
       "    <tr>\n",
       "      <th>application_key</th>\n",
       "      <th></th>\n",
       "      <th></th>\n",
       "      <th></th>\n",
       "      <th></th>\n",
       "      <th></th>\n",
       "      <th></th>\n",
       "      <th></th>\n",
       "      <th></th>\n",
       "      <th></th>\n",
       "      <th></th>\n",
       "      <th></th>\n",
       "      <th></th>\n",
       "      <th></th>\n",
       "      <th></th>\n",
       "      <th></th>\n",
       "      <th></th>\n",
       "      <th></th>\n",
       "      <th></th>\n",
       "      <th></th>\n",
       "      <th></th>\n",
       "      <th></th>\n",
       "    </tr>\n",
       "  </thead>\n",
       "  <tbody>\n",
       "    <tr>\n",
       "      <th>230032</th>\n",
       "      <td>-1.305454</td>\n",
       "      <td>3.638391</td>\n",
       "      <td>-0.261980</td>\n",
       "      <td>1.411601</td>\n",
       "      <td>0.267934</td>\n",
       "      <td>-0.231635</td>\n",
       "      <td>1.257393</td>\n",
       "      <td>0.423484</td>\n",
       "      <td>-0.048036</td>\n",
       "      <td>0.302734</td>\n",
       "      <td>...</td>\n",
       "      <td>0.177132</td>\n",
       "      <td>-0.136483</td>\n",
       "      <td>0.678052</td>\n",
       "      <td>-0.089499</td>\n",
       "      <td>0.002553</td>\n",
       "      <td>-0.006366</td>\n",
       "      <td>-0.511420</td>\n",
       "      <td>-0.218207</td>\n",
       "      <td>-0.375830</td>\n",
       "      <td>0.0</td>\n",
       "    </tr>\n",
       "    <tr>\n",
       "      <th>230033</th>\n",
       "      <td>0.104676</td>\n",
       "      <td>-1.209979</td>\n",
       "      <td>-2.520001</td>\n",
       "      <td>-0.800186</td>\n",
       "      <td>0.367242</td>\n",
       "      <td>-0.529305</td>\n",
       "      <td>0.337568</td>\n",
       "      <td>-0.792303</td>\n",
       "      <td>0.572190</td>\n",
       "      <td>-0.165818</td>\n",
       "      <td>...</td>\n",
       "      <td>0.747498</td>\n",
       "      <td>-0.027531</td>\n",
       "      <td>0.219942</td>\n",
       "      <td>0.843719</td>\n",
       "      <td>-0.127241</td>\n",
       "      <td>-0.116128</td>\n",
       "      <td>0.359007</td>\n",
       "      <td>0.436060</td>\n",
       "      <td>0.176141</td>\n",
       "      <td>1.0</td>\n",
       "    </tr>\n",
       "    <tr>\n",
       "      <th>230034</th>\n",
       "      <td>0.703029</td>\n",
       "      <td>-1.822767</td>\n",
       "      <td>0.317000</td>\n",
       "      <td>1.693722</td>\n",
       "      <td>-1.021015</td>\n",
       "      <td>-0.394505</td>\n",
       "      <td>0.267323</td>\n",
       "      <td>0.123715</td>\n",
       "      <td>0.297645</td>\n",
       "      <td>-0.356419</td>\n",
       "      <td>...</td>\n",
       "      <td>0.441152</td>\n",
       "      <td>0.429583</td>\n",
       "      <td>0.454741</td>\n",
       "      <td>-0.932745</td>\n",
       "      <td>-0.182100</td>\n",
       "      <td>-0.626274</td>\n",
       "      <td>0.377875</td>\n",
       "      <td>-0.741091</td>\n",
       "      <td>0.554088</td>\n",
       "      <td>1.0</td>\n",
       "    </tr>\n",
       "    <tr>\n",
       "      <th>230035</th>\n",
       "      <td>0.545779</td>\n",
       "      <td>-1.702944</td>\n",
       "      <td>-0.645018</td>\n",
       "      <td>0.204263</td>\n",
       "      <td>0.015222</td>\n",
       "      <td>0.018866</td>\n",
       "      <td>0.588381</td>\n",
       "      <td>-0.056456</td>\n",
       "      <td>0.291815</td>\n",
       "      <td>-0.287054</td>\n",
       "      <td>...</td>\n",
       "      <td>-0.215174</td>\n",
       "      <td>0.231720</td>\n",
       "      <td>0.150854</td>\n",
       "      <td>-0.306803</td>\n",
       "      <td>-0.246254</td>\n",
       "      <td>0.091261</td>\n",
       "      <td>0.466373</td>\n",
       "      <td>0.542945</td>\n",
       "      <td>0.204809</td>\n",
       "      <td>0.0</td>\n",
       "    </tr>\n",
       "    <tr>\n",
       "      <th>230036</th>\n",
       "      <td>0.189900</td>\n",
       "      <td>-2.424860</td>\n",
       "      <td>-1.324821</td>\n",
       "      <td>0.623454</td>\n",
       "      <td>0.590391</td>\n",
       "      <td>-0.060944</td>\n",
       "      <td>0.140603</td>\n",
       "      <td>-0.337215</td>\n",
       "      <td>-0.038905</td>\n",
       "      <td>0.347744</td>\n",
       "      <td>...</td>\n",
       "      <td>-0.136277</td>\n",
       "      <td>-0.234925</td>\n",
       "      <td>0.603682</td>\n",
       "      <td>0.205157</td>\n",
       "      <td>-0.093464</td>\n",
       "      <td>0.198325</td>\n",
       "      <td>1.270170</td>\n",
       "      <td>0.601531</td>\n",
       "      <td>0.514791</td>\n",
       "      <td>0.0</td>\n",
       "    </tr>\n",
       "  </tbody>\n",
       "</table>\n",
       "<p>5 rows × 36 columns</p>\n",
       "</div>"
      ],
      "text/plain": [
       "                        0         1         2         3         4         5  \\\n",
       "application_key                                                               \n",
       "230032          -1.305454  3.638391 -0.261980  1.411601  0.267934 -0.231635   \n",
       "230033           0.104676 -1.209979 -2.520001 -0.800186  0.367242 -0.529305   \n",
       "230034           0.703029 -1.822767  0.317000  1.693722 -1.021015 -0.394505   \n",
       "230035           0.545779 -1.702944 -0.645018  0.204263  0.015222  0.018866   \n",
       "230036           0.189900 -2.424860 -1.324821  0.623454  0.590391 -0.060944   \n",
       "\n",
       "                        6         7         8         9     ...       \\\n",
       "application_key                                             ...        \n",
       "230032           1.257393  0.423484 -0.048036  0.302734     ...        \n",
       "230033           0.337568 -0.792303  0.572190 -0.165818     ...        \n",
       "230034           0.267323  0.123715  0.297645 -0.356419     ...        \n",
       "230035           0.588381 -0.056456  0.291815 -0.287054     ...        \n",
       "230036           0.140603 -0.337215 -0.038905  0.347744     ...        \n",
       "\n",
       "                       26        27        28        29        30        31  \\\n",
       "application_key                                                               \n",
       "230032           0.177132 -0.136483  0.678052 -0.089499  0.002553 -0.006366   \n",
       "230033           0.747498 -0.027531  0.219942  0.843719 -0.127241 -0.116128   \n",
       "230034           0.441152  0.429583  0.454741 -0.932745 -0.182100 -0.626274   \n",
       "230035          -0.215174  0.231720  0.150854 -0.306803 -0.246254  0.091261   \n",
       "230036          -0.136277 -0.234925  0.603682  0.205157 -0.093464  0.198325   \n",
       "\n",
       "                       32        33        34  default_ind  \n",
       "application_key                                             \n",
       "230032          -0.511420 -0.218207 -0.375830          0.0  \n",
       "230033           0.359007  0.436060  0.176141          1.0  \n",
       "230034           0.377875 -0.741091  0.554088          1.0  \n",
       "230035           0.466373  0.542945  0.204809          0.0  \n",
       "230036           1.270170  0.601531  0.514791          0.0  \n",
       "\n",
       "[5 rows x 36 columns]"
      ]
     },
     "execution_count": 2,
     "metadata": {},
     "output_type": "execute_result"
    }
   ],
   "source": [
    "data = pd.read_csv('Data/TrainingData_PCA.csv', index_col=0)\n",
    "data.head()"
   ]
  },
  {
   "cell_type": "code",
   "execution_count": 3,
   "metadata": {},
   "outputs": [],
   "source": [
    "y = data['default_ind']\n",
    "X = data.drop('default_ind',axis = 1)"
   ]
  },
  {
   "cell_type": "markdown",
   "metadata": {},
   "source": [
    "## Undersampling"
   ]
  },
  {
   "cell_type": "code",
   "execution_count": 5,
   "metadata": {},
   "outputs": [],
   "source": [
    "from sklearn.model_selection import train_test_split\n",
    "X_train, X_test, y_train, y_test = train_test_split(X,y,test_size = 0.3, random_state = 15)"
   ]
  },
  {
   "cell_type": "code",
   "execution_count": 6,
   "metadata": {},
   "outputs": [
    {
     "data": {
      "text/html": [
       "<div>\n",
       "<style scoped>\n",
       "    .dataframe tbody tr th:only-of-type {\n",
       "        vertical-align: middle;\n",
       "    }\n",
       "\n",
       "    .dataframe tbody tr th {\n",
       "        vertical-align: top;\n",
       "    }\n",
       "\n",
       "    .dataframe thead th {\n",
       "        text-align: right;\n",
       "    }\n",
       "</style>\n",
       "<table border=\"1\" class=\"dataframe\">\n",
       "  <thead>\n",
       "    <tr style=\"text-align: right;\">\n",
       "      <th></th>\n",
       "      <th>0</th>\n",
       "      <th>1</th>\n",
       "      <th>2</th>\n",
       "      <th>3</th>\n",
       "      <th>4</th>\n",
       "      <th>5</th>\n",
       "      <th>6</th>\n",
       "      <th>7</th>\n",
       "      <th>8</th>\n",
       "      <th>9</th>\n",
       "      <th>...</th>\n",
       "      <th>26</th>\n",
       "      <th>27</th>\n",
       "      <th>28</th>\n",
       "      <th>29</th>\n",
       "      <th>30</th>\n",
       "      <th>31</th>\n",
       "      <th>32</th>\n",
       "      <th>33</th>\n",
       "      <th>34</th>\n",
       "      <th>default_ind</th>\n",
       "    </tr>\n",
       "    <tr>\n",
       "      <th>application_key</th>\n",
       "      <th></th>\n",
       "      <th></th>\n",
       "      <th></th>\n",
       "      <th></th>\n",
       "      <th></th>\n",
       "      <th></th>\n",
       "      <th></th>\n",
       "      <th></th>\n",
       "      <th></th>\n",
       "      <th></th>\n",
       "      <th></th>\n",
       "      <th></th>\n",
       "      <th></th>\n",
       "      <th></th>\n",
       "      <th></th>\n",
       "      <th></th>\n",
       "      <th></th>\n",
       "      <th></th>\n",
       "      <th></th>\n",
       "      <th></th>\n",
       "      <th></th>\n",
       "    </tr>\n",
       "  </thead>\n",
       "  <tbody>\n",
       "    <tr>\n",
       "      <th>357856</th>\n",
       "      <td>-1.712545</td>\n",
       "      <td>3.800805</td>\n",
       "      <td>-1.476178</td>\n",
       "      <td>-0.084977</td>\n",
       "      <td>-0.050878</td>\n",
       "      <td>-0.372880</td>\n",
       "      <td>0.478945</td>\n",
       "      <td>0.016167</td>\n",
       "      <td>-0.702814</td>\n",
       "      <td>-0.099516</td>\n",
       "      <td>...</td>\n",
       "      <td>0.023279</td>\n",
       "      <td>-0.168252</td>\n",
       "      <td>-0.504113</td>\n",
       "      <td>-0.380681</td>\n",
       "      <td>-0.667731</td>\n",
       "      <td>-0.316742</td>\n",
       "      <td>-0.054572</td>\n",
       "      <td>-0.232986</td>\n",
       "      <td>-0.183411</td>\n",
       "      <td>1.0</td>\n",
       "    </tr>\n",
       "    <tr>\n",
       "      <th>356814</th>\n",
       "      <td>4.016220</td>\n",
       "      <td>-1.542362</td>\n",
       "      <td>-0.337075</td>\n",
       "      <td>0.806658</td>\n",
       "      <td>0.739899</td>\n",
       "      <td>-0.419037</td>\n",
       "      <td>0.019952</td>\n",
       "      <td>-2.100235</td>\n",
       "      <td>1.607646</td>\n",
       "      <td>0.207097</td>\n",
       "      <td>...</td>\n",
       "      <td>0.190088</td>\n",
       "      <td>-0.844335</td>\n",
       "      <td>0.385689</td>\n",
       "      <td>-0.216260</td>\n",
       "      <td>0.100218</td>\n",
       "      <td>-0.693700</td>\n",
       "      <td>-0.628681</td>\n",
       "      <td>0.207341</td>\n",
       "      <td>0.574365</td>\n",
       "      <td>0.0</td>\n",
       "    </tr>\n",
       "    <tr>\n",
       "      <th>574881</th>\n",
       "      <td>-1.515503</td>\n",
       "      <td>2.140051</td>\n",
       "      <td>-0.586265</td>\n",
       "      <td>1.350260</td>\n",
       "      <td>-0.827153</td>\n",
       "      <td>-0.021887</td>\n",
       "      <td>-0.970792</td>\n",
       "      <td>0.061339</td>\n",
       "      <td>-0.808793</td>\n",
       "      <td>-0.092092</td>\n",
       "      <td>...</td>\n",
       "      <td>-0.011964</td>\n",
       "      <td>-0.408766</td>\n",
       "      <td>0.079251</td>\n",
       "      <td>0.361417</td>\n",
       "      <td>0.377789</td>\n",
       "      <td>-0.281148</td>\n",
       "      <td>0.180364</td>\n",
       "      <td>0.585672</td>\n",
       "      <td>0.292013</td>\n",
       "      <td>0.0</td>\n",
       "    </tr>\n",
       "    <tr>\n",
       "      <th>372062</th>\n",
       "      <td>3.116880</td>\n",
       "      <td>-2.348602</td>\n",
       "      <td>-0.805721</td>\n",
       "      <td>1.496261</td>\n",
       "      <td>1.349965</td>\n",
       "      <td>-0.270778</td>\n",
       "      <td>-0.560220</td>\n",
       "      <td>-1.762131</td>\n",
       "      <td>0.702461</td>\n",
       "      <td>0.235896</td>\n",
       "      <td>...</td>\n",
       "      <td>0.384403</td>\n",
       "      <td>-0.887693</td>\n",
       "      <td>0.923536</td>\n",
       "      <td>0.474322</td>\n",
       "      <td>-0.527341</td>\n",
       "      <td>0.048362</td>\n",
       "      <td>0.025217</td>\n",
       "      <td>0.231853</td>\n",
       "      <td>0.399831</td>\n",
       "      <td>0.0</td>\n",
       "    </tr>\n",
       "    <tr>\n",
       "      <th>369615</th>\n",
       "      <td>-1.813726</td>\n",
       "      <td>-0.855599</td>\n",
       "      <td>-1.655456</td>\n",
       "      <td>-0.128133</td>\n",
       "      <td>-0.204252</td>\n",
       "      <td>0.293084</td>\n",
       "      <td>-0.396212</td>\n",
       "      <td>0.104275</td>\n",
       "      <td>1.038175</td>\n",
       "      <td>-0.393300</td>\n",
       "      <td>...</td>\n",
       "      <td>0.001303</td>\n",
       "      <td>0.590681</td>\n",
       "      <td>-0.034777</td>\n",
       "      <td>-0.917885</td>\n",
       "      <td>0.269252</td>\n",
       "      <td>-0.143281</td>\n",
       "      <td>-0.597993</td>\n",
       "      <td>-0.056590</td>\n",
       "      <td>-0.884479</td>\n",
       "      <td>1.0</td>\n",
       "    </tr>\n",
       "  </tbody>\n",
       "</table>\n",
       "<p>5 rows × 36 columns</p>\n",
       "</div>"
      ],
      "text/plain": [
       "                        0         1         2         3         4         5  \\\n",
       "application_key                                                               \n",
       "357856          -1.712545  3.800805 -1.476178 -0.084977 -0.050878 -0.372880   \n",
       "356814           4.016220 -1.542362 -0.337075  0.806658  0.739899 -0.419037   \n",
       "574881          -1.515503  2.140051 -0.586265  1.350260 -0.827153 -0.021887   \n",
       "372062           3.116880 -2.348602 -0.805721  1.496261  1.349965 -0.270778   \n",
       "369615          -1.813726 -0.855599 -1.655456 -0.128133 -0.204252  0.293084   \n",
       "\n",
       "                        6         7         8         9     ...       \\\n",
       "application_key                                             ...        \n",
       "357856           0.478945  0.016167 -0.702814 -0.099516     ...        \n",
       "356814           0.019952 -2.100235  1.607646  0.207097     ...        \n",
       "574881          -0.970792  0.061339 -0.808793 -0.092092     ...        \n",
       "372062          -0.560220 -1.762131  0.702461  0.235896     ...        \n",
       "369615          -0.396212  0.104275  1.038175 -0.393300     ...        \n",
       "\n",
       "                       26        27        28        29        30        31  \\\n",
       "application_key                                                               \n",
       "357856           0.023279 -0.168252 -0.504113 -0.380681 -0.667731 -0.316742   \n",
       "356814           0.190088 -0.844335  0.385689 -0.216260  0.100218 -0.693700   \n",
       "574881          -0.011964 -0.408766  0.079251  0.361417  0.377789 -0.281148   \n",
       "372062           0.384403 -0.887693  0.923536  0.474322 -0.527341  0.048362   \n",
       "369615           0.001303  0.590681 -0.034777 -0.917885  0.269252 -0.143281   \n",
       "\n",
       "                       32        33        34  default_ind  \n",
       "application_key                                             \n",
       "357856          -0.054572 -0.232986 -0.183411          1.0  \n",
       "356814          -0.628681  0.207341  0.574365          0.0  \n",
       "574881           0.180364  0.585672  0.292013          0.0  \n",
       "372062           0.025217  0.231853  0.399831          0.0  \n",
       "369615          -0.597993 -0.056590 -0.884479          1.0  \n",
       "\n",
       "[5 rows x 36 columns]"
      ]
     },
     "execution_count": 6,
     "metadata": {},
     "output_type": "execute_result"
    }
   ],
   "source": [
    "train_data  = pd.DataFrame.copy(X_train)\n",
    "train_data['default_ind'] = y_train\n",
    "train_data.head()"
   ]
  },
  {
   "cell_type": "code",
   "execution_count": 10,
   "metadata": {},
   "outputs": [],
   "source": [
    "N_def = len(train_data[train_data[\"default_ind\"] == 1])\n",
    "def_ind = np.array(train_data[train_data[\"default_ind\"] == 1].index)\n",
    "non_def_ind = train_data[train_data[\"default_ind\"] == 0].index\n",
    "\n",
    "random_non_def_ind = np.random.choice(non_def_ind, N_def, replace = False)\n",
    "random_non_def_ind = np.array(random_non_def_ind)\n",
    "us_ind = np.concatenate([def_ind,random_non_def_ind])\n",
    "us_data = train_data.loc[us_ind,:]\n",
    "X_us= us_data.loc[:, us_data.columns != \"default_ind\"]\n",
    "y_us= us_data.loc[:, us_data.columns == \"default_ind\"]"
   ]
  },
  {
   "cell_type": "code",
   "execution_count": 12,
   "metadata": {},
   "outputs": [],
   "source": [
    "import lightgbm as gbm\n",
    "cv_params = {\n",
    "    'learning_rate': 0.01,\n",
    "    'max_depth': 20,\n",
    "    'min_child_weight': 5, \n",
    "    'min_child_samples': 3, \n",
    "    'objective': 'binary',\n",
    "    'metric':'binary_logloss',\n",
    "    'min_split_gain': 0.5, \n",
    "    'scale_pos_weight': 1,\n",
    "    'num_leaves': 8, \n",
    "    'feature_fraction': 0.4,\n",
    "    'bagging_fraction': 0.4,\n",
    "    'max_bin': 50, \n",
    "    'subsample': 0.6, \n",
    "    'colsample_bytree': 0.7, \n",
    "    'reg_alpha': 0.9, \n",
    "    'reg_lambda': 0.1\n",
    "    }\n",
    "\n",
    "\n",
    "gbm_tr = gbm.Dataset(X_us, label=y_us.values.ravel())\n",
    "\n",
    "model = gbm.train(cv_params, \n",
    "                gbm_tr, \n",
    "                num_boost_round=900,\n",
    "                verbose_eval=1)"
   ]
  },
  {
   "cell_type": "code",
   "execution_count": 14,
   "metadata": {},
   "outputs": [
    {
     "data": {
      "text/plain": [
       "0.5842548076923078"
      ]
     },
     "execution_count": 14,
     "metadata": {},
     "output_type": "execute_result"
    }
   ],
   "source": [
    "from sklearn.metrics import f1_score\n",
    "y_test_prob = model.predict(X_test)\n",
    "thres = 0.5\n",
    "\n",
    "y_pred_test = [0]*len(y_test_prob)\n",
    "\n",
    "for i in range(len(y_test_prob)):\n",
    "    if y_test_prob[i]>thres:\n",
    "        y_pred_test[i] = 1\n",
    "        \n",
    "f1_score(y_test,y_pred_test)     "
   ]
  },
  {
   "cell_type": "markdown",
   "metadata": {},
   "source": [
    "## SVM"
   ]
  },
  {
   "cell_type": "code",
   "execution_count": 16,
   "metadata": {},
   "outputs": [
    {
     "data": {
      "text/plain": [
       "SVC(C=1.0, cache_size=200, class_weight=None, coef0=0.0,\n",
       "  decision_function_shape='ovr', degree=3, gamma='auto', kernel='rbf',\n",
       "  max_iter=-1, probability=False, random_state=None, shrinking=True,\n",
       "  tol=0.001, verbose=False)"
      ]
     },
     "execution_count": 16,
     "metadata": {},
     "output_type": "execute_result"
    }
   ],
   "source": [
    "from sklearn.svm import SVC\n",
    "from sklearn.model_selection import train_test_split\n",
    "X_train, X_test, y_train, y_test = train_test_split(X,y,test_size = 0.3, random_state = 15)\n",
    "svc = SVC()\n",
    "svc.fit(X_train,y_train)"
   ]
  },
  {
   "cell_type": "code",
   "execution_count": 6,
   "metadata": {},
   "outputs": [
    {
     "data": {
      "text/plain": [
       "0.780619621342513"
      ]
     },
     "execution_count": 6,
     "metadata": {},
     "output_type": "execute_result"
    }
   ],
   "source": [
    "svc.score(X_train,y_train)"
   ]
  },
  {
   "cell_type": "code",
   "execution_count": 8,
   "metadata": {},
   "outputs": [
    {
     "data": {
      "text/plain": [
       "0.7667871485943775"
      ]
     },
     "execution_count": 8,
     "metadata": {},
     "output_type": "execute_result"
    }
   ],
   "source": [
    "svc.score(X_test,y_test)"
   ]
  },
  {
   "cell_type": "code",
   "execution_count": 9,
   "metadata": {},
   "outputs": [
    {
     "data": {
      "text/plain": [
       "0.46533468373077985"
      ]
     },
     "execution_count": 9,
     "metadata": {},
     "output_type": "execute_result"
    }
   ],
   "source": [
    "from sklearn.metrics import f1_score\n",
    "y_hat_test = svc.predict(X_test)\n",
    "f1_score(y_test,y_hat_test)"
   ]
  },
  {
   "cell_type": "code",
   "execution_count": 14,
   "metadata": {},
   "outputs": [
    {
     "data": {
      "text/plain": [
       "0.4052711778317061"
      ]
     },
     "execution_count": 14,
     "metadata": {},
     "output_type": "execute_result"
    }
   ],
   "source": [
    "u,c = np.unique(y_test, return_counts=True)\n",
    "c[1]/c[0]"
   ]
  },
  {
   "cell_type": "code",
   "execution_count": 15,
   "metadata": {},
   "outputs": [
    {
     "data": {
      "text/plain": [
       "0.402500844880027"
      ]
     },
     "execution_count": 15,
     "metadata": {},
     "output_type": "execute_result"
    }
   ],
   "source": [
    "u1,c1 = np.unique(y_train, return_counts=True)\n",
    "c1[1]/c1[0]"
   ]
  },
  {
   "cell_type": "code",
   "execution_count": null,
   "metadata": {},
   "outputs": [],
   "source": [
    "svc.fit(X_us,y_us.values.ravel())"
   ]
  },
  {
   "cell_type": "code",
   "execution_count": null,
   "metadata": {},
   "outputs": [],
   "source": [
    "y_hat_test = svc.predict(X_test)\n",
    "f1_score(y_test,y_hat_test)"
   ]
  },
  {
   "cell_type": "code",
   "execution_count": null,
   "metadata": {},
   "outputs": [],
   "source": []
  },
  {
   "cell_type": "code",
   "execution_count": null,
   "metadata": {},
   "outputs": [],
   "source": []
  },
  {
   "cell_type": "code",
   "execution_count": null,
   "metadata": {},
   "outputs": [],
   "source": []
  },
  {
   "cell_type": "code",
   "execution_count": null,
   "metadata": {},
   "outputs": [],
   "source": [
    "from sklearn.model_selection import GridSearchCV\n",
    "from sklearn.metrics import f1_score, make_scorer\n",
    "param_grid = [\n",
    "  {'C': [0.001,0.01,0.1,1,10,100], 'kernel': ['linear'], 'gamma': [0.001,0.01,0.1,1,10,100]},\n",
    "  {'C': [0.001,0.01,0.1,1,10,100], 'kernel': ['poly'], 'degree':[1,2,3,4,5],'gamma': ['auto']},\n",
    "  {'C': [0.001,0.01,0.1,1,10,100], 'kernel': ['rbf'], 'gamma': [0.001,0.01,0.1,1,10,100]},  \n",
    "  {'C': [0.001,0.01,0.1,1,10,100], 'kernel': ['sigmoid'], 'gamma': [0.001,0.01,0.1,1,10,100]}  \n",
    "]\n",
    "\n",
    "svc = SVC()\n",
    "clf = GridSearchCV(svc, param_grid, cv=5,scoring='f1_micro')\n",
    "clf.fit(X, y)"
   ]
  },
  {
   "cell_type": "code",
   "execution_count": null,
   "metadata": {},
   "outputs": [],
   "source": [
    "import pandas as pd\n",
    "df = pd.DataFrame(clf.cv_results_)\n",
    "df = df[['params','mean_test_score']]\n",
    "best = df.sort_values(by='mean_test_score', ascending=False).iloc[:5]\n",
    "best"
   ]
  },
  {
   "cell_type": "code",
   "execution_count": null,
   "metadata": {},
   "outputs": [],
   "source": [
    "def encoding(train_data,test_data=None):\n",
    "    \n",
    "    counts = train_data.groupby('mvar48')['default_ind'].count()\n",
    "    means = train_data.groupby('mvar48')['default_ind'].mean()\n",
    "    m = 0\n",
    "    smooth_mean = (counts * means + m * train_data['mvar48'].mean()) / (counts + m)\n",
    "    enc_48 = dict(smooth_mean)\n",
    "    train_data['mvar48'] = train_data['mvar48'].map(enc_48)\n",
    "    #train_data = train_data.replace({'C':0,'L':1})\n",
    "    if test_data==None:\n",
    "        return train_data\n",
    "    else:\n",
    "        #test_data = test_data.replace({'C':0,'L':1})\n",
    "        test_data['mvar48'] = test_data['mvar48'].map(enc_48)\n",
    "        return train_data, test_data     \n",
    "    "
   ]
  }
 ],
 "metadata": {
  "kernelspec": {
   "display_name": "Python 3",
   "language": "python",
   "name": "python3"
  },
  "language_info": {
   "codemirror_mode": {
    "name": "ipython",
    "version": 3
   },
   "file_extension": ".py",
   "mimetype": "text/x-python",
   "name": "python",
   "nbconvert_exporter": "python",
   "pygments_lexer": "ipython3",
   "version": "3.6.5"
  }
 },
 "nbformat": 4,
 "nbformat_minor": 2
}
