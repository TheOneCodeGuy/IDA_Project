{
 "cells": [
  {
   "cell_type": "code",
   "execution_count": 173,
   "metadata": {},
   "outputs": [],
   "source": [
    "import os\n",
    "import math\n",
    "import numpy as np\n",
    "import datetime as dt\n",
    "import time\n",
    "import pandas as pd\n",
    "import matplotlib.pyplot as plt\n",
    "from category_encoders.target_encoder import TargetEncoder"
   ]
  },
  {
   "cell_type": "code",
   "execution_count": 174,
   "metadata": {},
   "outputs": [
    {
     "name": "stderr",
     "output_type": "stream",
     "text": [
      "C:\\Users\\Nithya\\Anaconda3\\lib\\site-packages\\IPython\\core\\interactiveshell.py:2785: DtypeWarning: Columns (19) have mixed types. Specify dtype option on import or set low_memory=False.\n",
      "  interactivity=interactivity, compiler=compiler, result=result)\n"
     ]
    }
   ],
   "source": [
    "data = pd.read_csv('Data/TrainingData.csv', index_col=0)"
   ]
  },
  {
   "cell_type": "code",
   "execution_count": 175,
   "metadata": {},
   "outputs": [
    {
     "data": {
      "text/html": [
       "<div>\n",
       "<style scoped>\n",
       "    .dataframe tbody tr th:only-of-type {\n",
       "        vertical-align: middle;\n",
       "    }\n",
       "\n",
       "    .dataframe tbody tr th {\n",
       "        vertical-align: top;\n",
       "    }\n",
       "\n",
       "    .dataframe thead th {\n",
       "        text-align: right;\n",
       "    }\n",
       "</style>\n",
       "<table border=\"1\" class=\"dataframe\">\n",
       "  <thead>\n",
       "    <tr style=\"text-align: right;\">\n",
       "      <th></th>\n",
       "      <th>mvar1</th>\n",
       "      <th>mvar2</th>\n",
       "      <th>mvar3</th>\n",
       "      <th>mvar4</th>\n",
       "      <th>mvar5</th>\n",
       "      <th>mvar6</th>\n",
       "      <th>mvar7</th>\n",
       "      <th>mvar8</th>\n",
       "      <th>mvar9</th>\n",
       "      <th>mvar10</th>\n",
       "      <th>...</th>\n",
       "      <th>mvar39</th>\n",
       "      <th>mvar40</th>\n",
       "      <th>mvar41</th>\n",
       "      <th>mvar42</th>\n",
       "      <th>mvar43</th>\n",
       "      <th>mvar44</th>\n",
       "      <th>mvar45</th>\n",
       "      <th>mvar46</th>\n",
       "      <th>mvar48</th>\n",
       "      <th>default_ind</th>\n",
       "    </tr>\n",
       "  </thead>\n",
       "  <tbody>\n",
       "    <tr>\n",
       "      <th>count</th>\n",
       "      <td>79267.000000</td>\n",
       "      <td>77114.000000</td>\n",
       "      <td>82465.000000</td>\n",
       "      <td>82465.000000</td>\n",
       "      <td>82465.000000</td>\n",
       "      <td>63299.000000</td>\n",
       "      <td>7.532600e+04</td>\n",
       "      <td>63291.000000</td>\n",
       "      <td>71318.000000</td>\n",
       "      <td>8.246500e+04</td>\n",
       "      <td>...</td>\n",
       "      <td>76671.000000</td>\n",
       "      <td>17930.000000</td>\n",
       "      <td>25736.000000</td>\n",
       "      <td>80977.000000</td>\n",
       "      <td>82111.000000</td>\n",
       "      <td>74851.000000</td>\n",
       "      <td>37080.000000</td>\n",
       "      <td>59397.000000</td>\n",
       "      <td>83000.000000</td>\n",
       "      <td>83000.000000</td>\n",
       "    </tr>\n",
       "    <tr>\n",
       "      <th>mean</th>\n",
       "      <td>1747.511865</td>\n",
       "      <td>1.054816</td>\n",
       "      <td>5.401784</td>\n",
       "      <td>0.461151</td>\n",
       "      <td>1.084012</td>\n",
       "      <td>1633.429280</td>\n",
       "      <td>1.750797e+04</td>\n",
       "      <td>6822.332227</td>\n",
       "      <td>34030.596329</td>\n",
       "      <td>3.022857e+04</td>\n",
       "      <td>...</td>\n",
       "      <td>0.087673</td>\n",
       "      <td>97.851158</td>\n",
       "      <td>72.016570</td>\n",
       "      <td>0.331550</td>\n",
       "      <td>6.553604</td>\n",
       "      <td>0.706595</td>\n",
       "      <td>0.070523</td>\n",
       "      <td>0.093187</td>\n",
       "      <td>556.021277</td>\n",
       "      <td>0.287410</td>\n",
       "    </tr>\n",
       "    <tr>\n",
       "      <th>std</th>\n",
       "      <td>94.830127</td>\n",
       "      <td>1.556682</td>\n",
       "      <td>11.091569</td>\n",
       "      <td>1.704292</td>\n",
       "      <td>5.743899</td>\n",
       "      <td>3667.183981</td>\n",
       "      <td>4.677222e+04</td>\n",
       "      <td>10060.346814</td>\n",
       "      <td>50673.150005</td>\n",
       "      <td>6.617798e+04</td>\n",
       "      <td>...</td>\n",
       "      <td>0.423403</td>\n",
       "      <td>29.530657</td>\n",
       "      <td>24.508469</td>\n",
       "      <td>0.373973</td>\n",
       "      <td>6.273107</td>\n",
       "      <td>0.245915</td>\n",
       "      <td>0.290383</td>\n",
       "      <td>0.329054</td>\n",
       "      <td>1106.953295</td>\n",
       "      <td>0.452557</td>\n",
       "    </tr>\n",
       "    <tr>\n",
       "      <th>min</th>\n",
       "      <td>1477.000000</td>\n",
       "      <td>0.000000</td>\n",
       "      <td>0.000000</td>\n",
       "      <td>0.000000</td>\n",
       "      <td>0.000000</td>\n",
       "      <td>0.000000</td>\n",
       "      <td>0.000000e+00</td>\n",
       "      <td>0.000000</td>\n",
       "      <td>0.000000</td>\n",
       "      <td>0.000000e+00</td>\n",
       "      <td>...</td>\n",
       "      <td>0.000000</td>\n",
       "      <td>0.014000</td>\n",
       "      <td>0.000000</td>\n",
       "      <td>0.000000</td>\n",
       "      <td>0.000000</td>\n",
       "      <td>0.060660</td>\n",
       "      <td>0.000000</td>\n",
       "      <td>0.000000</td>\n",
       "      <td>2.000000</td>\n",
       "      <td>0.000000</td>\n",
       "    </tr>\n",
       "    <tr>\n",
       "      <th>25%</th>\n",
       "      <td>1680.000000</td>\n",
       "      <td>0.131800</td>\n",
       "      <td>0.000000</td>\n",
       "      <td>0.000000</td>\n",
       "      <td>0.000000</td>\n",
       "      <td>41.000000</td>\n",
       "      <td>1.750250e+03</td>\n",
       "      <td>496.000000</td>\n",
       "      <td>3542.250000</td>\n",
       "      <td>1.153000e+03</td>\n",
       "      <td>...</td>\n",
       "      <td>0.000000</td>\n",
       "      <td>90.149500</td>\n",
       "      <td>58.174750</td>\n",
       "      <td>0.000000</td>\n",
       "      <td>2.000000</td>\n",
       "      <td>0.515280</td>\n",
       "      <td>0.000000</td>\n",
       "      <td>0.000000</td>\n",
       "      <td>8.000000</td>\n",
       "      <td>0.000000</td>\n",
       "    </tr>\n",
       "    <tr>\n",
       "      <th>50%</th>\n",
       "      <td>1743.000000</td>\n",
       "      <td>0.513000</td>\n",
       "      <td>0.300000</td>\n",
       "      <td>0.000000</td>\n",
       "      <td>0.000000</td>\n",
       "      <td>297.000000</td>\n",
       "      <td>7.020500e+03</td>\n",
       "      <td>2507.000000</td>\n",
       "      <td>14389.000000</td>\n",
       "      <td>9.525000e+03</td>\n",
       "      <td>...</td>\n",
       "      <td>0.000000</td>\n",
       "      <td>100.000000</td>\n",
       "      <td>78.839500</td>\n",
       "      <td>0.200000</td>\n",
       "      <td>5.000000</td>\n",
       "      <td>0.739500</td>\n",
       "      <td>0.000000</td>\n",
       "      <td>0.000000</td>\n",
       "      <td>17.000000</td>\n",
       "      <td>0.000000</td>\n",
       "    </tr>\n",
       "    <tr>\n",
       "      <th>75%</th>\n",
       "      <td>1813.000000</td>\n",
       "      <td>1.386200</td>\n",
       "      <td>6.595000</td>\n",
       "      <td>0.000000</td>\n",
       "      <td>0.000000</td>\n",
       "      <td>1381.000000</td>\n",
       "      <td>1.811300e+04</td>\n",
       "      <td>9869.500000</td>\n",
       "      <td>44413.000000</td>\n",
       "      <td>3.428800e+04</td>\n",
       "      <td>...</td>\n",
       "      <td>0.000000</td>\n",
       "      <td>111.327000</td>\n",
       "      <td>91.596750</td>\n",
       "      <td>0.571430</td>\n",
       "      <td>10.000000</td>\n",
       "      <td>0.945120</td>\n",
       "      <td>0.000000</td>\n",
       "      <td>0.000000</td>\n",
       "      <td>111.000000</td>\n",
       "      <td>1.000000</td>\n",
       "    </tr>\n",
       "    <tr>\n",
       "      <th>max</th>\n",
       "      <td>1950.000000</td>\n",
       "      <td>31.018100</td>\n",
       "      <td>399.334000</td>\n",
       "      <td>25.754000</td>\n",
       "      <td>165.492000</td>\n",
       "      <td>94302.000000</td>\n",
       "      <td>5.637108e+06</td>\n",
       "      <td>291810.000000</td>\n",
       "      <td>840658.000000</td>\n",
       "      <td>5.647073e+06</td>\n",
       "      <td>...</td>\n",
       "      <td>21.000000</td>\n",
       "      <td>631.360000</td>\n",
       "      <td>182.111000</td>\n",
       "      <td>2.000000</td>\n",
       "      <td>91.000000</td>\n",
       "      <td>1.000000</td>\n",
       "      <td>7.000000</td>\n",
       "      <td>5.000000</td>\n",
       "      <td>3247.000000</td>\n",
       "      <td>1.000000</td>\n",
       "    </tr>\n",
       "  </tbody>\n",
       "</table>\n",
       "<p>8 rows × 48 columns</p>\n",
       "</div>"
      ],
      "text/plain": [
       "              mvar1         mvar2         mvar3         mvar4         mvar5  \\\n",
       "count  79267.000000  77114.000000  82465.000000  82465.000000  82465.000000   \n",
       "mean    1747.511865      1.054816      5.401784      0.461151      1.084012   \n",
       "std       94.830127      1.556682     11.091569      1.704292      5.743899   \n",
       "min     1477.000000      0.000000      0.000000      0.000000      0.000000   \n",
       "25%     1680.000000      0.131800      0.000000      0.000000      0.000000   \n",
       "50%     1743.000000      0.513000      0.300000      0.000000      0.000000   \n",
       "75%     1813.000000      1.386200      6.595000      0.000000      0.000000   \n",
       "max     1950.000000     31.018100    399.334000     25.754000    165.492000   \n",
       "\n",
       "              mvar6         mvar7          mvar8          mvar9        mvar10  \\\n",
       "count  63299.000000  7.532600e+04   63291.000000   71318.000000  8.246500e+04   \n",
       "mean    1633.429280  1.750797e+04    6822.332227   34030.596329  3.022857e+04   \n",
       "std     3667.183981  4.677222e+04   10060.346814   50673.150005  6.617798e+04   \n",
       "min        0.000000  0.000000e+00       0.000000       0.000000  0.000000e+00   \n",
       "25%       41.000000  1.750250e+03     496.000000    3542.250000  1.153000e+03   \n",
       "50%      297.000000  7.020500e+03    2507.000000   14389.000000  9.525000e+03   \n",
       "75%     1381.000000  1.811300e+04    9869.500000   44413.000000  3.428800e+04   \n",
       "max    94302.000000  5.637108e+06  291810.000000  840658.000000  5.647073e+06   \n",
       "\n",
       "           ...             mvar39        mvar40        mvar41        mvar42  \\\n",
       "count      ...       76671.000000  17930.000000  25736.000000  80977.000000   \n",
       "mean       ...           0.087673     97.851158     72.016570      0.331550   \n",
       "std        ...           0.423403     29.530657     24.508469      0.373973   \n",
       "min        ...           0.000000      0.014000      0.000000      0.000000   \n",
       "25%        ...           0.000000     90.149500     58.174750      0.000000   \n",
       "50%        ...           0.000000    100.000000     78.839500      0.200000   \n",
       "75%        ...           0.000000    111.327000     91.596750      0.571430   \n",
       "max        ...          21.000000    631.360000    182.111000      2.000000   \n",
       "\n",
       "             mvar43        mvar44        mvar45        mvar46        mvar48  \\\n",
       "count  82111.000000  74851.000000  37080.000000  59397.000000  83000.000000   \n",
       "mean       6.553604      0.706595      0.070523      0.093187    556.021277   \n",
       "std        6.273107      0.245915      0.290383      0.329054   1106.953295   \n",
       "min        0.000000      0.060660      0.000000      0.000000      2.000000   \n",
       "25%        2.000000      0.515280      0.000000      0.000000      8.000000   \n",
       "50%        5.000000      0.739500      0.000000      0.000000     17.000000   \n",
       "75%       10.000000      0.945120      0.000000      0.000000    111.000000   \n",
       "max       91.000000      1.000000      7.000000      5.000000   3247.000000   \n",
       "\n",
       "        default_ind  \n",
       "count  83000.000000  \n",
       "mean       0.287410  \n",
       "std        0.452557  \n",
       "min        0.000000  \n",
       "25%        0.000000  \n",
       "50%        0.000000  \n",
       "75%        1.000000  \n",
       "max        1.000000  \n",
       "\n",
       "[8 rows x 48 columns]"
      ]
     },
     "execution_count": 175,
     "metadata": {},
     "output_type": "execute_result"
    }
   ],
   "source": [
    "data.replace('missing', np.nan, inplace=True)\n",
    "data.replace('na', np.nan, inplace=True)\n",
    "int_cols = list(set(data.columns) - {'mvar47'})\n",
    "data[int_cols] = data[int_cols].astype(float)\n",
    "data.describe()"
   ]
  },
  {
   "cell_type": "markdown",
   "metadata": {},
   "source": [
    "## Missing Values"
   ]
  },
  {
   "cell_type": "code",
   "execution_count": 176,
   "metadata": {},
   "outputs": [
    {
     "data": {
      "image/png": "[encoded data removed]",
      "text/plain": [
       "<Figure size 1080x720 with 1 Axes>"
      ]
     },
     "metadata": {},
     "output_type": "display_data"
    }
   ],
   "source": [
    "cols = list(data.columns)\n",
    "nan_per = data.isna().sum(axis=0)/data.shape[0]\n",
    "plt.figure(figsize=(15,10))\n",
    "plt.bar(cols,nan_per)\n",
    "plt.xticks(rotation='vertical')\n",
    "plt.title('Fraction of missing values')\n",
    "plt.show()"
   ]
  },
  {
   "cell_type": "markdown",
   "metadata": {},
   "source": [
    "## Basic imputataion"
   ]
  },
  {
   "cell_type": "code",
   "execution_count": 177,
   "metadata": {},
   "outputs": [],
   "source": [
    "def basic_impute(data, cols, type_='mean'):   \n",
    "    \n",
    "    if type_ == 'mean':\n",
    "        return data.fillna(data[cols].mean()) \n",
    "    \n",
    "    if type_ == 'median':\n",
    "        return data.fillna(data[cols].median())\n",
    "    \n",
    "    if type_ =='mode':\n",
    "        md = data[cols].mode()\n",
    "        return data.fillna(md.iloc[0]) \n",
    "    \n",
    "    if type_ == 'CF': #CF - Customer friendly\n",
    "        imp_vals = data.mean()\n",
    "        v = [40,31,41,45,35,46,24,16,17,18,12,9,39,2,42,43]\n",
    "        for i in v:\n",
    "            imp_vals['mvar'+str(i)] = 0\n",
    "        med = data.median()\n",
    "        imp_vals['mvar11'] = med['mvar11']\n",
    "        return data.fillna(imp_vals[cols])    "
   ]
  },
  {
   "cell_type": "markdown",
   "metadata": {},
   "source": [
    "## Encoding"
   ]
  },
  {
   "cell_type": "code",
   "execution_count": 178,
   "metadata": {},
   "outputs": [],
   "source": [
    "def encoding(train_data,test_data=None):\n",
    "    \n",
    "    counts = train_data.groupby('mvar48')['default_ind'].count()\n",
    "    means = train_data.groupby('mvar48')['default_ind'].mean()\n",
    "    m = 0\n",
    "    smooth_mean = (counts * means + m * train_data['mvar48'].mean()) / (counts + m)\n",
    "    enc_48 = dict(smooth_mean)\n",
    "    train_data['mvar48'] = train_data['mvar48'].map(enc_48)\n",
    "    train_data = train_data.replace({'C':0,'L':1})\n",
    "    if test_data==None:\n",
    "        return train_data\n",
    "    else:\n",
    "        test_data = test_data.replace({'C':0,'L':1})\n",
    "        test_data['mvar48'] = test_data['mvar48'].map(enc_48)\n",
    "        return train_data, test_data     \n",
    "    "
   ]
  },
  {
   "cell_type": "markdown",
   "metadata": {},
   "source": [
    "## LDA "
   ]
  },
  {
   "cell_type": "code",
   "execution_count": 179,
   "metadata": {},
   "outputs": [],
   "source": [
    "data_enc = encoding(data)\n",
    "data_imp = basic_impute(data_enc,data_enc.columns,'CF')"
   ]
  },
  {
   "cell_type": "code",
   "execution_count": 180,
   "metadata": {},
   "outputs": [],
   "source": [
    "y = data_imp['default_ind']\n",
    "X_cols = list(set(data_imp.columns) - {'default_ind','mvar48'})\n",
    "X = data_imp[X_cols]"
   ]
  },
  {
   "cell_type": "code",
   "execution_count": 185,
   "metadata": {},
   "outputs": [
    {
     "data": {
      "text/plain": [
       "array([1.])"
      ]
     },
     "execution_count": 185,
     "metadata": {},
     "output_type": "execute_result"
    }
   ],
   "source": [
    "from sklearn.discriminant_analysis import LinearDiscriminantAnalysis\n",
    "LDA = LinearDiscriminantAnalysis()\n",
    "X_t = LDA.fit_transform(X.values, y.values)\n",
    "LDA.explained_variance_ratio_"
   ]
  },
  {
   "cell_type": "markdown",
   "metadata": {},
   "source": [
    "## Gen code"
   ]
  },
  {
   "cell_type": "code",
   "execution_count": 140,
   "metadata": {},
   "outputs": [
    {
     "data": {
      "text/plain": [
       "mvar1           3733\n",
       "mvar2           5886\n",
       "mvar3            535\n",
       "mvar4            535\n",
       "mvar5            535\n",
       "mvar6          19701\n",
       "mvar7           7674\n",
       "mvar8          19709\n",
       "mvar9          11682\n",
       "mvar10           535\n",
       "mvar11         46717\n",
       "mvar12         14578\n",
       "mvar13          9689\n",
       "mvar14             0\n",
       "mvar15         33519\n",
       "mvar16         19243\n",
       "mvar17         16499\n",
       "mvar18         15359\n",
       "mvar19             5\n",
       "mvar20           535\n",
       "mvar21         23462\n",
       "mvar22         30668\n",
       "mvar23         42311\n",
       "mvar24         19530\n",
       "mvar25          7862\n",
       "mvar26         10929\n",
       "mvar27         13650\n",
       "mvar28           535\n",
       "mvar29           535\n",
       "mvar30         37988\n",
       "mvar31         58539\n",
       "mvar32          7862\n",
       "mvar33          1869\n",
       "mvar34           535\n",
       "mvar35         34868\n",
       "mvar36          3159\n",
       "mvar37          7862\n",
       "mvar38           535\n",
       "mvar39          6329\n",
       "mvar40         65070\n",
       "mvar41         57264\n",
       "mvar42          2023\n",
       "mvar43           889\n",
       "mvar44          8149\n",
       "mvar45         45920\n",
       "mvar46         23603\n",
       "mvar47             0\n",
       "mvar48             0\n",
       "default_ind        0\n",
       "dtype: int64"
      ]
     },
     "execution_count": 140,
     "metadata": {},
     "output_type": "execute_result"
    }
   ],
   "source": [
    "nan_count = data.isna().sum(axis=0)\n",
    "nan_count"
   ]
  },
  {
   "cell_type": "code",
   "execution_count": 118,
   "metadata": {},
   "outputs": [],
   "source": [
    "X_imp = basic_impute(X,X.columns)"
   ]
  },
  {
   "cell_type": "code",
   "execution_count": 119,
   "metadata": {},
   "outputs": [
    {
     "data": {
      "image/png": "[encoded data removed]",
      "text/plain": [
       "<Figure size 432x288 with 1 Axes>"
      ]
     },
     "metadata": {},
     "output_type": "display_data"
    }
   ],
   "source": [
    "from sklearn.decomposition import PCA\n",
    "comp = np.array(range(X_imp.shape[1]))\n",
    "var_explained = []\n",
    "for c in comp:\n",
    "    pca = PCA(n_components=c)\n",
    "    pca.fit(X_imp)  \n",
    "    #print(c,len(pca.explained_variance_ratio_))\n",
    "    var_explained.append(np.sum(pca.explained_variance_))\n",
    "    \n",
    "plt.plot(comp,var_explained)\n",
    "plt.xlabel('Components')\n",
    "plt.ylabel('Variance captured by components')\n",
    "plt.title('Variance captured vs components')\n",
    "plt.show()"
   ]
  },
  {
   "cell_type": "code",
   "execution_count": 93,
   "metadata": {},
   "outputs": [],
   "source": [
    "#Location ID:\n",
    "t_enc = TargetEncoder()\n",
    "#t_enc.fit_transform(data['mvar48'].values.astype(str), data['default_ind'].values)\n"
   ]
  },
  {
   "cell_type": "code",
   "execution_count": null,
   "metadata": {},
   "outputs": [],
   "source": [
    "data_mean  = data.fillna(data.mean())\n",
    "data_median  = data.fillna(data.median())\n",
    "mode = data.mode()\n",
    "data_mode = data.fillna(mode.iloc[0])\n",
    "imp_vals = data.mean()\n",
    "v = [40,31,41,45,35,46,24,16,17,18,12,9,39,2,42,43]\n",
    "for i in v:\n",
    "    imp_vals['mvar'+str(i)] = 0\n",
    "med = data.median()\n",
    "imp_vals['mvar11'] = med['mvar11']"
   ]
  },
  {
   "cell_type": "code",
   "execution_count": 78,
   "metadata": {},
   "outputs": [
    {
     "data": {
      "text/plain": [
       "mvar48\n",
       "0.000000    0.000000\n",
       "0.100000    0.100000\n",
       "0.111111    0.111111\n",
       "0.125000    0.125000\n",
       "0.142857    0.142857\n",
       "0.166667    0.166667\n",
       "0.169014    0.169014\n",
       "0.181818    0.181818\n",
       "0.200000    0.200000\n",
       "0.203209    0.203209\n",
       "0.204225    0.204225\n",
       "0.205674    0.205674\n",
       "0.214286    0.214286\n",
       "0.215496    0.215496\n",
       "0.219895    0.219895\n",
       "0.225225    0.225225\n",
       "0.231228    0.231228\n",
       "0.236667    0.236667\n",
       "0.238095    0.238095\n",
       "0.245136    0.245136\n",
       "0.246032    0.246032\n",
       "0.246224    0.246224\n",
       "0.246851    0.246851\n",
       "0.247893    0.247893\n",
       "0.248682    0.248682\n",
       "0.250000    0.250000\n",
       "0.250696    0.250696\n",
       "0.253333    0.253333\n",
       "0.255800    0.255800\n",
       "0.256091    0.256091\n",
       "0.258550    0.258550\n",
       "0.260870    0.260870\n",
       "0.262243    0.262243\n",
       "0.265906    0.265906\n",
       "0.268558    0.268558\n",
       "0.270300    0.270300\n",
       "0.273048    0.273048\n",
       "0.274908    0.274908\n",
       "0.276907    0.276907\n",
       "0.280171    0.280171\n",
       "0.280771    0.280771\n",
       "0.282864    0.282864\n",
       "0.285714    0.285714\n",
       "0.287129    0.287129\n",
       "0.300000    0.300000\n",
       "0.310078    0.310078\n",
       "0.310093    0.310093\n",
       "0.320883    0.320883\n",
       "0.333333    0.333333\n",
       "0.346878    0.346878\n",
       "0.357143    0.357143\n",
       "0.444444    0.444444\n",
       "0.666667    0.666667\n",
       "0.800000    0.800000\n",
       "1.000000    1.000000\n",
       "Name: default_ind, dtype: float64"
      ]
     },
     "execution_count": 78,
     "metadata": {},
     "output_type": "execute_result"
    }
   ],
   "source": [
    "#Location ID\n",
    "unique_, counts_ = np.unique(data['mvar48'], return_counts=True)\n",
    "dict(zip(unique_, counts_))\n",
    "\n",
    "data.groupby('mvar48')['default_ind'].std()\n",
    "data.groupby('mvar48')['default_ind'].mean()"
   ]
  },
  {
   "cell_type": "code",
   "execution_count": 77,
   "metadata": {},
   "outputs": [],
   "source": [
    "from sklearn.neighbors import KNeighborsRegressor\n",
    "model = KNeighborsRegressor(10)\n",
    "\n",
    "a = X.loc[~X['mvar3'].isna()].drop('mvar3',axis = 1)\n",
    "imputed = basic_impute(a,a.columns,'CF')\n",
    "#imputed.isna()"
   ]
  },
  {
   "cell_type": "code",
   "execution_count": null,
   "metadata": {},
   "outputs": [],
   "source": []
  }
 ],
 "metadata": {
  "kernelspec": {
   "display_name": "Python 3",
   "language": "python",
   "name": "python3"
  },
  "language_info": {
   "codemirror_mode": {
    "name": "ipython",
    "version": 3
   },
   "file_extension": ".py",
   "mimetype": "text/x-python",
   "name": "python",
   "nbconvert_exporter": "python",
   "pygments_lexer": "ipython3",
   "version": "3.6.5"
  }
 },
 "nbformat": 4,
 "nbformat_minor": 2
}
